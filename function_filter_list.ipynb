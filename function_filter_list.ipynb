{
 "cells": [
  {
   "cell_type": "code",
   "execution_count": 14,
   "id": "ac0534d8-bce6-4bdc-a343-cb1825a7affa",
   "metadata": {},
   "outputs": [
    {
     "name": "stdin",
     "output_type": "stream",
     "text": [
      "Enter the list of integers (e.g., [1,2,3] or 1,2,3):  4,6,80, b\n"
     ]
    },
    {
     "name": "stdout",
     "output_type": "stream",
     "text": [
      "Error: Please enter a valid list of integers (e.g., [1,2,3] or 1,2,3)\n"
     ]
    },
    {
     "name": "stdin",
     "output_type": "stream",
     "text": [
      "Enter the list of integers (e.g., [1,2,3] or 1,2,3):  3 4 6 7 8 3\n"
     ]
    },
    {
     "name": "stdout",
     "output_type": "stream",
     "text": [
      "Error: Please enter a valid list of integers (e.g., [1,2,3] or 1,2,3)\n"
     ]
    },
    {
     "name": "stdin",
     "output_type": "stream",
     "text": [
      "Enter the list of integers (e.g., [1,2,3] or 1,2,3):  1, 3, 66, 8, 7\n",
      "Enter the filter value:  8\n"
     ]
    },
    {
     "name": "stdout",
     "output_type": "stream",
     "text": [
      "Filtered list (elements <= 8): [1, 3, 8, 7]\n"
     ]
    }
   ],
   "source": [
    "\n",
    "\n",
    "#Function used to answer the question and print the filtered list\n",
    "def filter_list(input_list, filter_num):\n",
    "    return [x for x in input_list if x <= filter_num]\n",
    "\n",
    "#Function used to parse the input of the list and create a list that can then be passed to the filter_list function\n",
    "#this function ensures that integers were entered\n",
    "def parse_list_input(input_str):\n",
    "    try:\n",
    "        # Remove brackets and split by commas\n",
    "        input_str = input_str.strip().strip('[]')\n",
    "        if not input_str:\n",
    "            raise ValueError(\"List cannot be empty\")\n",
    "       \n",
    "        # Convert input string to list of integers\n",
    "        input_list = [int(x) for x in input_str.split(',')]\n",
    "        return input_list\n",
    "    except ValueError:\n",
    "        raise ValueError(\"Please enter a valid list of integers (e.g., [1,2,3] or 1,2,3)\")\n",
    "\n",
    "#I was unsure if the question intended for the user to input both the list and the filter. This try statement handles errors associated with inputting a list\n",
    "while True:\n",
    "    try:\n",
    "        input_str = input(\"Enter the list of integers (e.g., [1,2,3] or 1,2,3): \")\n",
    "        input_list = parse_list_input(input_str)\n",
    "        break\n",
    "    except ValueError as e:\n",
    "        print(f\"Error: {e}\")\n",
    "\n",
    "\n",
    "#I wanted to make sure that an integer was input by the user, so I used a try statement\n",
    "while True:\n",
    "    try:\n",
    "        filter_num = float(input(\"Enter the filter value: \"))\n",
    "        if not filter_num.is_integer():\n",
    "            raise ValueError(\"Filter number must be an integer\")\n",
    "        filter_num = int(filter_num)\n",
    "        result = filter_list(input_list, filter_num)\n",
    "        print(f\"Filtered list (elements <= {filter_num}): {result}\")\n",
    "        break\n",
    "    except ValueError as e:\n",
    "        if str(e) == \"Threshold must be an integer\":\n",
    "            print(f\"Error: {e}\")\n",
    "        else:\n",
    "            print(\"Error: Please enter a valid number\")"
   ]
  }
 ],
 "metadata": {
  "kernelspec": {
   "display_name": "Python 3 (ipykernel)",
   "language": "python",
   "name": "python3"
  },
  "language_info": {
   "codemirror_mode": {
    "name": "ipython",
    "version": 3
   },
   "file_extension": ".py",
   "mimetype": "text/x-python",
   "name": "python",
   "nbconvert_exporter": "python",
   "pygments_lexer": "ipython3",
   "version": "3.12.7"
  }
 },
 "nbformat": 4,
 "nbformat_minor": 5
}
