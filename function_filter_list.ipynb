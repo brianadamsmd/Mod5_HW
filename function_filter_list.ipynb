{
 "cells": [
  {
   "cell_type": "code",
   "execution_count": 9,
   "id": "ac0534d8-bce6-4bdc-a343-cb1825a7affa",
   "metadata": {},
   "outputs": [
    {
     "name": "stdin",
     "output_type": "stream",
     "text": [
      "Enter the list of integers (e.g., [1,2,3] or 1,2,3):  1,2,3\n",
      "Enter the filter value:  1\n"
     ]
    },
    {
     "name": "stdout",
     "output_type": "stream",
     "text": [
      "Filtered list (elements <= 1): [1]\n"
     ]
    }
   ],
   "source": [
    "def filter_list(input_list, filter_num):\n",
    "    \"\"\"\n",
    "    Filters a list to keep only elements less than or equal to a given filter number/threshold.\n",
    "    \n",
    "    Uses the built-in 'filter' function with a lambda expression for efficient, \n",
    "    one-line list filtering.\n",
    "    \n",
    "    Args:\n",
    "        input_list (list): The list of numbers to be filtered.\n",
    "        filter_num (int): The maximum value to retain in the list.\n",
    "    \n",
    "    Returns:\n",
    "        list: A new list containing the filtered elements.\n",
    "    \"\"\"\n",
    "    return list(filter(lambda item: item <= filter_num, input_list))\n",
    "\n",
    "def parse_list_input(input_str):\n",
    "    \"\"\"\n",
    "    Parses a string input (e.g., \"[1,2,3]\" or \"1,2,3\") into a list of integers.\n",
    "\n",
    "    Performs validation to ensure all elements are valid integers.\n",
    "\n",
    "    Args:\n",
    "        input_str (str): The raw string input from the user.\n",
    "\n",
    "    Returns:\n",
    "        list: A list of integers.\n",
    "\n",
    "    Raises:\n",
    "        ValueError: If the input is empty or contains non-integer elements.\n",
    "    \"\"\"\n",
    "    try:\n",
    "        # Remove brackets and split by commas\n",
    "        input_str = input_str.strip().strip('[]')\n",
    "        if not input_str:\n",
    "            raise ValueError(\"List cannot be empty\")\n",
    "       \n",
    "        # Convert input string to list of integers\n",
    "        input_list = [int(x) for x in input_str.split(',')]\n",
    "        return input_list\n",
    "    except ValueError:\n",
    "        raise ValueError(\"Please enter a valid list of integers (e.g., [1,2,3] or 1,2,3)\")\n",
    "\n",
    "\n",
    "# I was unsure if the question intended for the user to input both the list and the filter. \n",
    "# This try statement handles errors associated with inputting a list\n",
    "while True:\n",
    "    try:\n",
    "        input_str = input(\"Enter the list of integers (e.g., [1,2,3] or 1,2,3): \")\n",
    "        input_list = parse_list_input(input_str)\n",
    "        break\n",
    "    except ValueError as e:\n",
    "        print(f\"Error: {e}\")\n",
    "\n",
    "\n",
    "#I wanted to make sure that an integer was input by the user, so I used a try statement\n",
    "while True:\n",
    "    try:\n",
    "        \n",
    "        # Use float() first to safely catch all non-numeric inputs\n",
    "        filter_num = float(input(\"Enter the filter value: \"))\n",
    "        \n",
    "        # Check if the float value is actually an integer (no decimal part)\n",
    "        if not filter_num.is_integer():\n",
    "            raise ValueError(\"Filter number must be an integer\")\n",
    "        \n",
    "        filter_num = int(filter_num)\n",
    "\n",
    "        # Execute the core logic and print the result\n",
    "        result = filter_list(input_list, filter_num)\n",
    "        print(f\"Filtered list (elements <= {filter_num}): {result}\")\n",
    "        break\n",
    "    except ValueError as e:\n",
    "        if str(e) == \"Threshold must be an integer\":\n",
    "            print(f\"Error: {e}\")\n",
    "        else:\n",
    "            print(\"Error: Please enter a valid number\")"
   ]
  }
 ],
 "metadata": {
  "kernelspec": {
   "display_name": "Python 3 (ipykernel)",
   "language": "python",
   "name": "python3"
  },
  "language_info": {
   "codemirror_mode": {
    "name": "ipython",
    "version": 3
   },
   "file_extension": ".py",
   "mimetype": "text/x-python",
   "name": "python",
   "nbconvert_exporter": "python",
   "pygments_lexer": "ipython3",
   "version": "3.12.7"
  }
 },
 "nbformat": 4,
 "nbformat_minor": 5
}
