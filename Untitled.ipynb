{
 "cells": [
  {
   "cell_type": "code",
   "execution_count": null,
   "id": "84d26d74-92af-4e44-9594-c822f562d9e8",
   "metadata": {},
   "outputs": [],
   "source": [
    "def inner_most_list_using_while(input_list):\n",
    "    \"\"\"\n",
    "    Finds the innermost list in a nested list and increments each element by 1.\n",
    "\n",
    "    Args:\n",
    "        input_list: A list containing integers or other lists.\n",
    "\n",
    "    Returns:\n",
    "        A new list with each element of the innermost list incremented by 1.\n",
    "    \"\"\"\n",
    "    \n",
    "    # Initialize a stack with the input list\n",
    "    current_level = input_list\n",
    "    \n",
    "    # This loop continues as long as there's a list nested inside the current list\n",
    "    while any(isinstance(item, list) for item in current_level):\n",
    "        next_level = []\n",
    "        for item in current_level:\n",
    "            # If the item is a list, extend the next_level list with its elements\n",
    "            if isinstance(item, list):\n",
    "                next_level.extend(item)\n",
    "            # If the item is not a list (it's an integer), add it to the next_level list\n",
    "            else:\n",
    "                next_level.append(item)\n",
    "        current_level = next_level\n",
    "\n",
    "    # The loop has finished, so current_level now holds the innermost list\n",
    "    # Return a new list with each element incremented by 1\n",
    "    return [x + 1 for x in current_level]"
   ]
  }
 ],
 "metadata": {
  "kernelspec": {
   "display_name": "Python [conda env:base] *",
   "language": "python",
   "name": "conda-base-py"
  },
  "language_info": {
   "codemirror_mode": {
    "name": "ipython",
    "version": 3
   },
   "file_extension": ".py",
   "mimetype": "text/x-python",
   "name": "python",
   "nbconvert_exporter": "python",
   "pygments_lexer": "ipython3",
   "version": "3.12.2"
  }
 },
 "nbformat": 4,
 "nbformat_minor": 5
}
