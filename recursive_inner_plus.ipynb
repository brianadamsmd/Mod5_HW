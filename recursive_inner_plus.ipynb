{
 "cells": [
  {
   "cell_type": "code",
   "execution_count": 16,
   "id": "ed12c5d0-cd8a-4d24-9bce-483ae2c037a5",
   "metadata": {},
   "outputs": [
    {
     "data": {
      "text/plain": [
       "[35, 57, 80]"
      ]
     },
     "execution_count": 16,
     "metadata": {},
     "output_type": "execute_result"
    }
   ],
   "source": [
    "## Due to recursive calling, a global variable needs to be used to check initially if there is a nested list\n",
    "first_pass = True\n",
    "\n",
    "def find_inner_most_plus_one_using_recursion(input_list):\n",
    "\n",
    "    global first_pass\n",
    "\n",
    "\n",
    "    ## nested function used to check for the presence of a nested list\n",
    "    def has_nested_list(lst):\n",
    "        return any(isinstance(item, list) for item in lst)\n",
    "\n",
    "    ## logic for initial check of the nested list (Error handling)\n",
    "    if first_pass:\n",
    "        first_pass = False\n",
    "\n",
    "        if not has_nested_list(input_list):\n",
    "            raise ValueError(\"Input list must contain at least one nested list\")\n",
    "\n",
    "    #if there is a nested list or it is not the first pass through the recursion, the rest of this code will run\n",
    "    \n",
    "    # if no nested lists, return the list with each element +1\n",
    "    if not any(isinstance(item, list) for item in input_list):\n",
    "        return [x + 1 for x in input_list]\n",
    "    \n",
    "    # Recursive case: find the first nested list and recurse\n",
    "    for item in input_list:\n",
    "        if isinstance(item, list):\n",
    "            return find_inner_most_plus_one_using_recursion(item)\n",
    "\n",
    "find_inner_most_plus_one_using_recursion([1,2,3,4,5,6,7,8,9,[ 34, 56, 79]])"
   ]
  }
 ],
 "metadata": {
  "kernelspec": {
   "display_name": "Python 3 (ipykernel)",
   "language": "python",
   "name": "python3"
  },
  "language_info": {
   "codemirror_mode": {
    "name": "ipython",
    "version": 3
   },
   "file_extension": ".py",
   "mimetype": "text/x-python",
   "name": "python",
   "nbconvert_exporter": "python",
   "pygments_lexer": "ipython3",
   "version": "3.12.7"
  }
 },
 "nbformat": 4,
 "nbformat_minor": 5
}
