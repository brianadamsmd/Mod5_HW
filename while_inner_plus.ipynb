{
 "cells": [
  {
   "cell_type": "code",
   "execution_count": 19,
   "id": "84d26d74-92af-4e44-9594-c822f562d9e8",
   "metadata": {},
   "outputs": [
    {
     "data": {
      "text/plain": [
       "[13, 15, 18]"
      ]
     },
     "execution_count": 19,
     "metadata": {},
     "output_type": "execute_result"
    }
   ],
   "source": [
    "def find_innermost_list_plus_one_using_while(input_nested_list):\n",
    "    ## current = used as a list to iterate through while loop and is initially set to the nested lists that are passed as an argument\n",
    "    current = input_nested_list\n",
    "\n",
    "    ## first test to make sure there is a nested list that was passed into the function\n",
    "    if not any(isinstance(item, list) for item in current):\n",
    "        raise ValueError(\"Input list must contain at least one nested list\")\n",
    "    \n",
    "    else:\n",
    "        \n",
    "        ## first while loop evaluates if there are any lists in the current list that is being iterated through\n",
    "        while any(isinstance(item, list) for item in current):\n",
    "            \n",
    "            ## iter_num = variable to be used to count the number of iterations and used to index a list\n",
    "            iter_num = 0\n",
    "\n",
    "            ## inner while loop is entered if there is a list found in the current list\n",
    "            while iter_num < len(current):\n",
    "                if isinstance(current[iter_num], list):\n",
    "                    current = current[iter_num]\n",
    "                    break\n",
    "                iter_num += 1\n",
    "            \n",
    "    return [x + 1 for x in current]\n",
    "\n",
    "find_innermost_list_plus_one_using_while([1,2,3,4,5,6,7,8,9,[12,14,17]])"
   ]
  },
  {
   "cell_type": "code",
   "execution_count": null,
   "id": "81685486-b9a6-4026-b45e-2bf3a9526a1c",
   "metadata": {},
   "outputs": [],
   "source": []
  }
 ],
 "metadata": {
  "kernelspec": {
   "display_name": "Python 3 (ipykernel)",
   "language": "python",
   "name": "python3"
  },
  "language_info": {
   "codemirror_mode": {
    "name": "ipython",
    "version": 3
   },
   "file_extension": ".py",
   "mimetype": "text/x-python",
   "name": "python",
   "nbconvert_exporter": "python",
   "pygments_lexer": "ipython3",
   "version": "3.12.7"
  }
 },
 "nbformat": 4,
 "nbformat_minor": 5
}
