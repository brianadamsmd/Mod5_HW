{
 "cells": [
  {
   "cell_type": "code",
   "execution_count": null,
   "id": "84d26d74-92af-4e44-9594-c822f562d9e8",
   "metadata": {},
   "outputs": [],
   "source": [
    "def find_innermost_list_plus_one_using_while(input_nested_list):\n",
    "    \"\"\"\n",
    "    Find the innermost list in a nested structure and return it with 1 added to each element.\n",
    "    Uses a while loop to traverse the nested structure.\n",
    "    \"\"\"\n",
    "    current = input_nested_list\n",
    "    loop_count = 1\n",
    "    \n",
    "    # Keep going deeper until we find the innermost list\n",
    "    while True:\n",
    "        found_nested_list = False\n",
    "\n",
    "        \n",
    "        # Look for any nested lists in the current level\n",
    "        while found_nested_list: \n",
    "            for item in current:\n",
    "                if isinstance(item, list):\n",
    "                    current = item\n",
    "                    found_nested_list = True\n",
    "                    continue\n",
    "                else:\n",
    "                    found_nested_list = False\n",
    "                    break\n",
    "     \n",
    "    # Add 1 to each element in the innermost list\n",
    "    result = []\n",
    "    i = 0\n",
    "    while i < len(current):\n",
    "        if isinstance(current[i], int):\n",
    "            result.append(current[i] + 1)\n",
    "        i += 1\n",
    "    \n",
    "    return result\n",
    "\n",
    "\n",
    "find_innermost_list_plus_one_using_while([1,2,3,4,[5,6,7,[8,9]]])"
   ]
  }
 ],
 "metadata": {
  "kernelspec": {
   "display_name": "Python [conda env:base] *",
   "language": "python",
   "name": "conda-base-py"
  },
  "language_info": {
   "codemirror_mode": {
    "name": "ipython",
    "version": 3
   },
   "file_extension": ".py",
   "mimetype": "text/x-python",
   "name": "python",
   "nbconvert_exporter": "python",
   "pygments_lexer": "ipython3",
   "version": "3.12.2"
  }
 },
 "nbformat": 4,
 "nbformat_minor": 5
}
